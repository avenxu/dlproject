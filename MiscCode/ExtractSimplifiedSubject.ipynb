{
 "cells": [
  {
   "cell_type": "code",
   "execution_count": 1,
   "metadata": {},
   "outputs": [],
   "source": [
    "## Convert subject to main 8 subjects save file as txt one-hot encoded\n",
    "\n",
    "import os\n",
    "import json\n",
    "from collections import namedtuple\n",
    "text_file = open(\"reducedSubject.txt\", \"w\")\n",
    "SUBJECT_LIST = ['Physics', 'Mathematics', 'Computer Science', 'Quantitative Biology', 'Quantitative Finance', 'Statistics', 'Electrical Engineering and Systems Science', 'Economics']\n",
    "reducedSubjectData = []\n",
    "for i in os.listdir(\"./2017\"):\n",
    "    if i.endswith('.json'):\n",
    "        with open(\"./2017/\" + i,encoding=\"utf8\") as f:\n",
    "            lines = f.readlines()\n",
    "            if(len(lines) == 0): continue\n",
    "            for line in lines:\n",
    "                x = json.loads(line, object_hook=lambda d: namedtuple('X', d.keys())(*d.values()))\n",
    "                \n",
    "                #print(x[1])\n",
    "                temp = x[1].subject\n",
    "                # clean data\n",
    "                cleanedTemp = [x for x in temp if not any(c.isdigit() for c in x)]\n",
    "                \n",
    "                docSubjectList = [0] *  len(SUBJECT_LIST)\n",
    "                for j in range(len(cleanedTemp)):\n",
    "                    for k in range(len(SUBJECT_LIST)):\n",
    "                        if (SUBJECT_LIST[k] in cleanedTemp[j]):\n",
    "                            docSubjectList[k]=1\n",
    "                \n",
    "                text_file.write(str(docSubjectList) + '\\n')\n",
    "text_file.close()     "
   ]
  },
  {
   "cell_type": "code",
   "execution_count": 31,
   "metadata": {},
   "outputs": [],
   "source": [
    "SUBJECT_LIST = ['Physics', 'Mathematics', 'Computer Science', 'Quantitative Biology', 'Quantitative Finance', 'Statistics', 'Electrical Engineering and Systems Science', 'Economics']\n",
    "\n",
    "def subjectToList(input):\n",
    "#Input:  subject name\n",
    "#Return: one hot encoded list of that subject\n",
    "    outputIndexList = [0] *  len(SUBJECT_LIST)\n",
    "    for index in range(len(SUBJECT_LIST)):\n",
    "        if(input == SUBJECT_LIST[index]):\n",
    "            outputIndexList[index] = 1\n",
    "            \n",
    "    return outputIndexList\n",
    "    \n",
    "        \n"
   ]
  },
  {
   "cell_type": "code",
   "execution_count": 32,
   "metadata": {},
   "outputs": [
    {
     "name": "stdout",
     "output_type": "stream",
     "text": [
      "[1, 0, 0, 0, 0, 0, 0, 0]\n"
     ]
    }
   ],
   "source": [
    "print(subjectToList('Physics'))\n",
    "\n"
   ]
  },
  {
   "cell_type": "code",
   "execution_count": null,
   "metadata": {},
   "outputs": [],
   "source": []
  }
 ],
 "metadata": {
  "kernelspec": {
   "display_name": "Python 3",
   "language": "python",
   "name": "python3"
  },
  "language_info": {
   "codemirror_mode": {
    "name": "ipython",
    "version": 3
   },
   "file_extension": ".py",
   "mimetype": "text/x-python",
   "name": "python",
   "nbconvert_exporter": "python",
   "pygments_lexer": "ipython3",
   "version": "3.6.5"
  }
 },
 "nbformat": 4,
 "nbformat_minor": 2
}
