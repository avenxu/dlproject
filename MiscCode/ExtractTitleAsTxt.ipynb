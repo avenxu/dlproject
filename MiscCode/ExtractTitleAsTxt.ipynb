{
 "cells": [
  {
   "cell_type": "code",
   "execution_count": 11,
   "metadata": {},
   "outputs": [],
   "source": [
    "import os\n",
    "import json\n",
    "from collections import namedtuple\n",
    "text_file = open(\"titles.txt\", \"w\")\n",
    "\n",
    "\n",
    "for i in os.listdir(\"./2017\"):\n",
    "    if i.endswith('.json'):\n",
    "        with open(\"./2017/\" + i,encoding=\"utf8\") as f:\n",
    "            lines = f.readlines()\n",
    "            if(len(lines) == 0): continue\n",
    "            for line in lines:\n",
    "                x = json.loads(line, object_hook=lambda d: namedtuple('X', d.keys())(*d.values()))\n",
    "                text_file.write(str(x[1].title) + '\\n')\n",
    "    #             for line in lines[1:2]:\n",
    "    #                 print(line)\n",
    "text_file.close()     \n",
    "# def parseToText(string s):\n",
    "    \n"
   ]
  },
  {
   "cell_type": "code",
   "execution_count": null,
   "metadata": {},
   "outputs": [],
   "source": []
  }
 ],
 "metadata": {
  "kernelspec": {
   "display_name": "Python 3",
   "language": "python",
   "name": "python3"
  },
  "language_info": {
   "codemirror_mode": {
    "name": "ipython",
    "version": 3
   },
   "file_extension": ".py",
   "mimetype": "text/x-python",
   "name": "python",
   "nbconvert_exporter": "python",
   "pygments_lexer": "ipython3",
   "version": "3.6.5"
  }
 },
 "nbformat": 4,
 "nbformat_minor": 2
}
