{
 "cells": [
  {
   "cell_type": "code",
   "execution_count": null,
   "metadata": {},
   "outputs": [],
   "source": [
    "# Problem with ddcdd contents where d=digit c=char\n",
    "import os\n",
    "import json\n",
    "from collections import namedtuple\n",
    "\n",
    "\n",
    "subjectData = []\n",
    "subject = []\n",
    "# whole subject set\n",
    "wholeSubject =set()\n",
    "# cleaned subject set \n",
    "cleanedWholeSubject = set()\n",
    "\n",
    "for i in os.listdir(\"./2017\"):\n",
    "    if i.endswith('.json'):\n",
    "        with open(\"./2017/\" + i,encoding=\"utf8\") as f:\n",
    "            lines = f.readlines()\n",
    "            if(len(lines) == 0): continue\n",
    "            for line in lines:\n",
    "                x = json.loads(line, object_hook=lambda d: namedtuple('X', d.keys())(*d.values()))\n",
    "                #print(x[1]) \n",
    "                temp = x[1].subject\n",
    "                wholeSubject.update(temp)\n",
    "                # remove numbers and chars not subject names\n",
    "                cleanedTemp = [x for x in temp if not any(c.isdigit() for c in x)]\n",
    "                cleanedWholeSubject.update(cleanedTemp)\n",
    "                subjectData.append(cleanedTemp) \n",
    "                \n",
    "                \n",
    "                #for line in lines[1:2]:\n",
    "                 #   print(line)"
   ]
  },
  {
   "cell_type": "code",
   "execution_count": null,
   "metadata": {},
   "outputs": [],
   "source": [
    "import numpy as np\n",
    "ListCleanedWholeSubject= list(cleanedWholeSubject)\n",
    "onHotSubjectList = []\n",
    "# Iterate each doc \n",
    "for i in range(len(subjectData)):\n",
    "    # itearte over the list of subjects in each doc \n",
    "    docSubjectList = []\n",
    "    for j in range(len(subjectData[i])):\n",
    "        for k in range(len(ListCleanedWholeSubject)):\n",
    "            if (subjectData[i][j]==ListCleanedWholeSubject[k]):\n",
    "                docSubjectList.append(1)\n",
    "            else: \n",
    "                docSubjectList.append(0)\n",
    "                    \n",
    "    onHotSubjectList.append(docSubjectList)\n"
   ]
  }
 ],
 "metadata": {
  "kernelspec": {
   "display_name": "Python 3",
   "language": "python",
   "name": "python3"
  },
  "language_info": {
   "codemirror_mode": {
    "name": "ipython",
    "version": 3
   },
   "file_extension": ".py",
   "mimetype": "text/x-python",
   "name": "python",
   "nbconvert_exporter": "python",
   "pygments_lexer": "ipython3",
   "version": "3.6.5"
  }
 },
 "nbformat": 4,
 "nbformat_minor": 2
}
